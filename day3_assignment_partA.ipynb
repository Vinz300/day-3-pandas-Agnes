{
 "cells": [
  {
   "cell_type": "code",
   "execution_count": 3,
   "id": "a854cdb2-08b4-495f-9e87-a113bb1f3917",
   "metadata": {},
   "outputs": [],
   "source": [
    "import pandas as pd"
   ]
  },
  {
   "cell_type": "code",
   "execution_count": 5,
   "id": "1ea1ffa9-f378-493b-9a29-962190dc6605",
   "metadata": {},
   "outputs": [
    {
     "name": "stdout",
     "output_type": "stream",
     "text": [
      "                County           State  2010Census  2017PopEstimate\n",
      "0     Abbeville County  South Carolina       25417            24722\n",
      "1        Acadia Parish       Louisiana       61773            62590\n",
      "2      Accomack County        Virginia       33164            32545\n",
      "3           Ada County           Idaho      392365           456849\n",
      "4         Adair County            Iowa        7682             7054\n",
      "...                ...             ...         ...              ...\n",
      "3137       Yuma County         Arizona      195751           207534\n",
      "3138       Yuma County        Colorado       10043            10075\n",
      "3139     Zapata County           Texas       14018            14322\n",
      "3140     Zavala County           Texas       11677            11948\n",
      "3141    Ziebach County    South Dakota        2801             2756\n",
      "\n",
      "[3142 rows x 4 columns]\n"
     ]
    }
   ],
   "source": [
    "#importing population data\n",
    "popu=pd.read_csv(r\"C:\\Users\\mccmrfcs\\Downloads\\population_by_county.csv - population_by_county.csv.csv\")\n",
    "print(popu)"
   ]
  },
  {
   "cell_type": "code",
   "execution_count": 10,
   "id": "79de8135-077a-431b-9171-9b79109c0e15",
   "metadata": {},
   "outputs": [
    {
     "name": "stdout",
     "output_type": "stream",
     "text": [
      "             County           State  2010Census  2017PopEstimate\n",
      "0  Abbeville County  South Carolina       25417            24722\n",
      "1     Acadia Parish       Louisiana       61773            62590\n",
      "2   Accomack County        Virginia       33164            32545\n",
      "3        Ada County           Idaho      392365           456849\n",
      "4      Adair County            Iowa        7682             7054\n"
     ]
    }
   ],
   "source": [
    "#show head\n",
    "print(popu.head())"
   ]
  },
  {
   "cell_type": "code",
   "execution_count": 13,
   "id": "7816f459-7fe3-43cb-9dab-98a1c36ac915",
   "metadata": {},
   "outputs": [
    {
     "name": "stdout",
     "output_type": "stream",
     "text": [
      "Index(['County', 'State', '2010Census', '2017PopEstimate'], dtype='object')\n"
     ]
    }
   ],
   "source": [
    "#show column names\n",
    "print(popu.columns)"
   ]
  },
  {
   "cell_type": "code",
   "execution_count": 37,
   "id": "51eb543a-4770-4c76-9ed4-4c113ba3d69d",
   "metadata": {},
   "outputs": [
    {
     "name": "stdout",
     "output_type": "stream",
     "text": [
      "number of states: 3142\n"
     ]
    }
   ],
   "source": [
    "#how many states\n",
    "num_of_states=popu['State'].count()\n",
    "print(\"number of states:\", num_of_states)"
   ]
  },
  {
   "cell_type": "code",
   "execution_count": 28,
   "id": "3d3ca2ca-89de-49b8-91e8-2b4704591e2d",
   "metadata": {},
   "outputs": [
    {
     "name": "stdout",
     "output_type": "stream",
     "text": [
      "the list of states:\n",
      "['South Carolina' 'Louisiana' 'Virginia' 'Idaho' 'Iowa' 'Kentucky'\n",
      " 'Missouri' 'Oklahoma' 'Colorado' 'Illinois' 'Indiana' 'Mississippi'\n",
      " 'Nebraska' 'North Dakota' 'Ohio' 'Pennsylvania' 'Washington' 'Wisconsin'\n",
      " 'Vermont' 'Minnesota' 'Florida' 'North Carolina' 'California' 'New York'\n",
      " 'Wyoming' 'Michigan' 'Alaska' 'Maryland' 'Kansas' 'Tennessee' 'Texas'\n",
      " 'Maine' 'Arizona' 'Georgia' 'Arkansas' 'New Jersey' 'South Dakota'\n",
      " 'Alabama' 'Oregon' 'West Virginia' 'Massachusetts' 'Utah' 'Montana'\n",
      " 'New Hampshire' 'New Mexico' 'Rhode Island' 'Nevada'\n",
      " 'District of Columbia' 'Connecticut' 'Hawaii' 'Delaware']\n"
     ]
    }
   ],
   "source": [
    "#list of all states in the dataset\n",
    "state=popu['State'].unique()\n",
    "print(\"the list of states:\")\n",
    "print(state)"
   ]
  },
  {
   "cell_type": "code",
   "execution_count": 41,
   "id": "0056cf57-719a-4432-8122-79e74f7a10da",
   "metadata": {},
   "outputs": [
    {
     "name": "stdout",
     "output_type": "stream",
     "text": [
      "0    Abbeville County\n",
      "1       Acadia Parish\n",
      "2     Accomack County\n",
      "3          Ada County\n",
      "4        Adair County\n",
      "Name: County, dtype: object\n"
     ]
    }
   ],
   "source": [
    "#5 most famous County\n",
    "com_county=popu['County'].head(5)\n",
    "print(com_county)"
   ]
  },
  {
   "cell_type": "code",
   "execution_count": 54,
   "id": "3d7d2ef1-45d9-49e4-b2a0-c6996cc88e90",
   "metadata": {},
   "outputs": [
    {
     "name": "stdout",
     "output_type": "stream",
     "text": [
      "most poplated County by 2010 Census: 1713    Los Angeles County\n",
      "628            Cook County\n",
      "1209         Harris County\n",
      "1784       Maricopa County\n",
      "2501      San Diego County\n",
      "Name: County, dtype: object\n"
     ]
    }
   ],
   "source": [
    "#most populated Counties by 2010 Census\n",
    "most_pop=popu.sort_values(by='2010Census',ascending=False).head(5)\n",
    "print(\"most poplated County by 2010 Census:\", most_pop['County'])"
   ]
  },
  {
   "cell_type": "code",
   "execution_count": 56,
   "id": "2c1f6508-da7f-4997-ac82-2bfb1fabf525",
   "metadata": {},
   "outputs": [
    {
     "name": "stdout",
     "output_type": "stream",
     "text": [
      "39\n"
     ]
    }
   ],
   "source": [
    "#How many Counties have 2010 populations greater than 1 million\n",
    "pop_1=popu[popu['2010Census']>1000000].count()\n",
    "print(pop_1['County'])"
   ]
  },
  {
   "cell_type": "code",
   "execution_count": 60,
   "id": "68452054-5d98-4b2b-88db-14d141988631",
   "metadata": {},
   "outputs": [
    {
     "name": "stdout",
     "output_type": "stream",
     "text": [
      "                County           State  2010Census  2017PopEstimate  \\\n",
      "0     Abbeville County  South Carolina       25417            24722   \n",
      "1        Acadia Parish       Louisiana       61773            62590   \n",
      "2      Accomack County        Virginia       33164            32545   \n",
      "3           Ada County           Idaho      392365           456849   \n",
      "4         Adair County            Iowa        7682             7054   \n",
      "...                ...             ...         ...              ...   \n",
      "3137       Yuma County         Arizona      195751           207534   \n",
      "3138       Yuma County        Colorado       10043            10075   \n",
      "3139     Zapata County           Texas       14018            14322   \n",
      "3140     Zavala County           Texas       11677            11948   \n",
      "3141    Ziebach County    South Dakota        2801             2756   \n",
      "\n",
      "      PercentChange  \n",
      "0      24619.188739  \n",
      "1      62491.305320  \n",
      "2      32443.098018  \n",
      "3     456763.114948  \n",
      "4       6945.097250  \n",
      "...             ...  \n",
      "3137  207439.677624  \n",
      "3138    9975.317618  \n",
      "3139   14224.122609  \n",
      "3140   11850.268162  \n",
      "3141    2654.367199  \n",
      "\n",
      "[3142 rows x 5 columns]\n"
     ]
    }
   ],
   "source": [
    "#Add a column that calculates the percent change between the 2010 Census and the 2017 Population Estimate\n",
    "popu['PercentChange']=popu['2017PopEstimate']-popu['2010Census']/popu['2017PopEstimate']*100\n",
    "print(popu)"
   ]
  },
  {
   "cell_type": "code",
   "execution_count": 62,
   "id": "66c315af-18f0-4edb-b6c1-c1e58fa3bfbb",
   "metadata": {},
   "outputs": [
    {
     "name": "stdout",
     "output_type": "stream",
     "text": [
      "0.9987582035845394\n"
     ]
    }
   ],
   "source": [
    "#Compare with 2010 census and use correlation\n",
    "Correlation=popu['2010Census'].corr(popu['2017PopEstimate'])\n",
    "print(Correlation)"
   ]
  },
  {
   "cell_type": "code",
   "execution_count": 63,
   "id": "03cd1002-5152-4145-ae28-23682280f90c",
   "metadata": {},
   "outputs": [
    {
     "name": "stdout",
     "output_type": "stream",
     "text": [
      "Growth in population\n"
     ]
    }
   ],
   "source": [
    "#predicting growth or decline in population\n",
    "if Correlation >0:\n",
    "    print(\"Growth in population\")\n",
    "else:\n",
    "    print(\"Decline in population\")"
   ]
  }
 ],
 "metadata": {
  "kernelspec": {
   "display_name": "Python 3 (ipykernel)",
   "language": "python",
   "name": "python3"
  },
  "language_info": {
   "codemirror_mode": {
    "name": "ipython",
    "version": 3
   },
   "file_extension": ".py",
   "mimetype": "text/x-python",
   "name": "python",
   "nbconvert_exporter": "python",
   "pygments_lexer": "ipython3",
   "version": "3.12.7"
  }
 },
 "nbformat": 4,
 "nbformat_minor": 5
}
